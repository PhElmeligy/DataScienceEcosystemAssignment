{
 "cells": [
  {
   "cell_type": "markdown",
   "id": "918f1056-b36f-4d5e-bc72-63bf6cf87714",
   "metadata": {},
   "source": [
    "# Data Science Tools and Ecosystem"
   ]
  },
  {
   "cell_type": "markdown",
   "id": "2b787d22-c0f8-4877-9878-e23e97d84e99",
   "metadata": {},
   "source": [
    "# Data Science Tools and Ecosystem"
   ]
  },
  {
   "cell_type": "markdown",
   "id": "22290e25-3a58-4105-8b2e-f48f50ae67c3",
   "metadata": {},
   "source": [
    "#### In this notebook, Data Science Tools and Ecosystem are summarized.\n"
   ]
  },
  {
   "cell_type": "markdown",
   "id": "3e3a1291-8723-4b4a-849c-6f5e39cadbc8",
   "metadata": {},
   "source": [
    "#### In this notebook, Data Science Tools and Ecosystem are summarized.\n",
    "\n"
   ]
  },
  {
   "cell_type": "markdown",
   "id": "12b5f61d-5323-4ee1-a3f5-d34234c63ce4",
   "metadata": {},
   "source": [
    "__Objectives:__\n",
    "- List most used languages in data science\n",
    "- List most used libraries in data science\n",
    "- show most used open source IDEs in data science\n",
    "- convert hours to minutes through dividing by 60\n",
    "- using basic arithmetic operators like adding and multiplication  "
   ]
  },
  {
   "cell_type": "markdown",
   "id": "562ea30e-4798-470e-9e35-f11407e563ce",
   "metadata": {},
   "source": [
    "__Objectives:__\n",
    "- List most used languages in data science\n",
    "- List most used libraries in data science\n",
    "- show most used open source IDEs in data science\n",
    "- convert hours to minutes through dividing by 60\n",
    "- using basic arithmetic operators like adding and multiplication  "
   ]
  },
  {
   "cell_type": "markdown",
   "id": "7fdc4800-bd1a-4ef3-8f56-2b75b6989d33",
   "metadata": {},
   "source": [
    "Some of the popular languages that Data Scientists use are:\n",
    "1. Python\n",
    "2. R\n",
    "3. Julia\n",
    "4. Scala"
   ]
  },
  {
   "cell_type": "markdown",
   "id": "32f687fc-3c4e-41fc-823b-00cecf741daa",
   "metadata": {},
   "source": [
    "Some of the popular languages that Data Scientists use are:\n",
    "1. Python\n",
    "2. R\n",
    "3. Julia\n",
    "4. Scala"
   ]
  },
  {
   "cell_type": "markdown",
   "id": "b1f090b6-aff6-4605-a93b-4e558066a2b5",
   "metadata": {},
   "source": [
    "Some of the commonly used libraries used by Data Scientists include:\n",
    "1. Pandas\n",
    "2. Nupy\n",
    "3. Matplotlib\n"
   ]
  },
  {
   "cell_type": "markdown",
   "id": "fad34efa-accc-4ce0-80d1-7015043c3000",
   "metadata": {},
   "source": [
    "Some of the commonly used libraries used by Data Scientists include:\n",
    "1. Pandas\n",
    "2. Nupy\n",
    "3. Matplotlib\n"
   ]
  },
  {
   "cell_type": "markdown",
   "id": "0fa31608-924c-443d-947c-5fbf33113130",
   "metadata": {},
   "source": [
    "|Data Science Tools|\n",
    "|----|\n",
    "|Spyder|\n",
    "|Jupyter lab|\n",
    "|RStudio|"
   ]
  },
  {
   "cell_type": "markdown",
   "id": "9068e099-a4d4-4167-bb33-b19ff91ee1bd",
   "metadata": {},
   "source": [
    "|Data Science Tools|\n",
    "|----|\n",
    "|Spyder|\n",
    "|Jupyter lab|\n",
    "|RStudio|"
   ]
  },
  {
   "cell_type": "markdown",
   "id": "5a9d892b-cc8b-4ff3-970c-01d907f9ea92",
   "metadata": {},
   "source": [
    "### Below are a few examples of evaluating arithmetic expressions in Python"
   ]
  },
  {
   "cell_type": "markdown",
   "id": "4eb230b5-a2bb-4a0f-a40a-3996fd21bf44",
   "metadata": {},
   "source": [
    "### Below are a few examples of evaluating arithmetic expressions in Python"
   ]
  },
  {
   "cell_type": "markdown",
   "id": "95631f9d-56df-4824-bc88-27847ddcaedf",
   "metadata": {},
   "source": [
    " This a simple arithmetic expression to mutiply then add integers"
   ]
  },
  {
   "cell_type": "code",
   "execution_count": 1,
   "id": "4e62210d-e5e3-4bbc-b3a5-5aa7f41b4e36",
   "metadata": {},
   "outputs": [
    {
     "data": {
      "text/plain": [
       "17"
      ]
     },
     "execution_count": 1,
     "metadata": {},
     "output_type": "execute_result"
    }
   ],
   "source": [
    "(3*4)+5"
   ]
  },
  {
   "cell_type": "markdown",
   "id": "881cf750-f3a1-49ad-badd-fff8be0536d8",
   "metadata": {},
   "source": [
    " This will convert 200 minutes to hours by diving by 60"
   ]
  },
  {
   "cell_type": "code",
   "execution_count": 2,
   "id": "fb1735d4-bc56-4963-b7e4-dcf7d493b371",
   "metadata": {},
   "outputs": [
    {
     "data": {
      "text/plain": [
       "3.3333333333333335"
      ]
     },
     "execution_count": 2,
     "metadata": {},
     "output_type": "execute_result"
    }
   ],
   "source": [
    "200/60"
   ]
  },
  {
   "cell_type": "markdown",
   "id": "b53f1724-075e-4357-885b-6845e55ecb5a",
   "metadata": {},
   "source": [
    "## Author\n",
    "Abdelmoneim Moustafa Elmeligy"
   ]
  },
  {
   "cell_type": "markdown",
   "id": "a8e9a966-e25d-4f54-8548-8416fd802bc2",
   "metadata": {},
   "source": [
    "## Author\n",
    "Abdelmoneim Moustafa Elmeligy"
   ]
  },
  {
   "cell_type": "code",
   "execution_count": null,
   "id": "7c87d006-5f4f-4e25-921a-aae76e70dc08",
   "metadata": {},
   "outputs": [],
   "source": []
  }
 ],
 "metadata": {
  "kernelspec": {
   "display_name": "Python 3 (ipykernel)",
   "language": "python",
   "name": "python3"
  },
  "language_info": {
   "codemirror_mode": {
    "name": "ipython",
    "version": 3
   },
   "file_extension": ".py",
   "mimetype": "text/x-python",
   "name": "python",
   "nbconvert_exporter": "python",
   "pygments_lexer": "ipython3",
   "version": "3.10.9"
  }
 },
 "nbformat": 4,
 "nbformat_minor": 5
}
